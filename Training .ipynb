{
 "cells": [
  {
   "cell_type": "code",
   "execution_count": 1,
   "metadata": {},
   "outputs": [],
   "source": [
    "import pickle"
   ]
  },
  {
   "cell_type": "code",
   "execution_count": 2,
   "metadata": {},
   "outputs": [],
   "source": [
    "X = pickle.load(open('X.pkl', 'rb'))\n",
    "y = pickle.load(open('y.pkl', 'rb'))"
   ]
  },
  {
   "cell_type": "code",
   "execution_count": 14,
   "metadata": {},
   "outputs": [
    {
     "data": {
      "text/plain": [
       "array([0, 0, 0, ..., 1, 1, 1])"
      ]
     },
     "execution_count": 14,
     "metadata": {},
     "output_type": "execute_result"
    }
   ],
   "source": [
    "y"
   ]
  },
  {
   "cell_type": "code",
   "execution_count": 4,
   "metadata": {},
   "outputs": [],
   "source": [
    "X = X/255"
   ]
  },
  {
   "cell_type": "code",
   "execution_count": null,
   "metadata": {},
   "outputs": [],
   "source": []
  },
  {
   "cell_type": "code",
   "execution_count": 5,
   "metadata": {},
   "outputs": [],
   "source": [
    "X = X.reshape(-1, 100, 100, 1)"
   ]
  },
  {
   "cell_type": "code",
   "execution_count": 6,
   "metadata": {},
   "outputs": [],
   "source": [
    "import tensorflow as tf"
   ]
  },
  {
   "cell_type": "code",
   "execution_count": 7,
   "metadata": {},
   "outputs": [],
   "source": [
    "from tensorflow import keras\n",
    "from tensorflow.keras.models import Sequential\n",
    "from tensorflow.keras.layers import Conv2D, MaxPooling2D, Dense, Flatten\n",
    "from tensorflow.keras.models import Sequential,Model\n",
    "from tensorflow.keras.layers import Dense, Dropout, Flatten\n",
    "from tensorflow.keras.layers import Conv2D,Activation,MaxPooling2D\n",
    "from tensorflow.keras.utils import normalize\n",
    "from tensorflow.keras.layers import Concatenate\n",
    "from tensorflow.keras import Input\n",
    "from tensorflow.keras.callbacks import ModelCheckpoint"
   ]
  },
  {
   "cell_type": "code",
   "execution_count": 8,
   "metadata": {},
   "outputs": [],
   "source": [
    "model = Sequential()\n",
    "\n",
    "model.add(Conv2D(64, (3,3), activation = 'relu'))\n",
    "model.add(MaxPooling2D((2,2)))\n",
    "\n",
    "model.add(Conv2D(32, (3,3), activation = 'relu'))\n",
    "model.add(MaxPooling2D((2,2)))\n",
    "\n",
    "model.add(Flatten())\n",
    "\n",
    "model.add(Dense(128, input_shape = X.shape[1:], activation = 'relu'))\n",
    "model.add(Dropout(0.5))\n",
    "\n",
    "model.add(Dense(128,activation='relu'))\n",
    "model.add(Dropout(0.5))\n",
    "\n",
    "model.add(Dense(64,activation='relu'))\n",
    "model.add(Dropout(0.5))\n",
    "\n",
    "model.add(Dense(2, activation = 'softmax'))"
   ]
  },
  {
   "cell_type": "code",
   "execution_count": 9,
   "metadata": {},
   "outputs": [],
   "source": [
    "from sklearn.model_selection import train_test_split\n",
    "\n",
    "train_data,test_data,train_target,test_target=train_test_split(X,y,test_size=0.1)"
   ]
  },
  {
   "cell_type": "code",
   "execution_count": 10,
   "metadata": {},
   "outputs": [],
   "source": [
    "model.compile(optimizer='adam',\n",
    "              loss='sparse_categorical_crossentropy',\n",
    "              metrics=['accuracy'])"
   ]
  },
  {
   "cell_type": "code",
   "execution_count": 11,
   "metadata": {},
   "outputs": [
    {
     "name": "stdout",
     "output_type": "stream",
     "text": [
      "Epoch 1/20\n",
      "64/64 [==============================] - 23s 365ms/step - loss: 0.4533 - accuracy: 0.7406\n",
      "Epoch 2/20\n",
      "64/64 [==============================] - 24s 375ms/step - loss: 0.1492 - accuracy: 0.9623\n",
      "Epoch 3/20\n",
      "64/64 [==============================] - 25s 389ms/step - loss: 0.1137 - accuracy: 0.9677\n",
      "Epoch 4/20\n",
      "64/64 [==============================] - 25s 385ms/step - loss: 0.0966 - accuracy: 0.9741\n",
      "Epoch 5/20\n",
      "64/64 [==============================] - 24s 373ms/step - loss: 0.0700 - accuracy: 0.9794\n",
      "Epoch 6/20\n",
      "64/64 [==============================] - 24s 379ms/step - loss: 0.0558 - accuracy: 0.9848\n",
      "Epoch 7/20\n",
      "64/64 [==============================] - 24s 373ms/step - loss: 0.0676 - accuracy: 0.9848\n",
      "Epoch 8/20\n",
      "64/64 [==============================] - 24s 374ms/step - loss: 0.0382 - accuracy: 0.9858\n",
      "Epoch 9/20\n",
      "64/64 [==============================] - 27s 421ms/step - loss: 0.0331 - accuracy: 0.9912\n",
      "Epoch 10/20\n",
      "64/64 [==============================] - 24s 371ms/step - loss: 0.0470 - accuracy: 0.9863\n",
      "Epoch 11/20\n",
      "64/64 [==============================] - 26s 403ms/step - loss: 0.0334 - accuracy: 0.9892\n",
      "Epoch 12/20\n",
      "64/64 [==============================] - 23s 360ms/step - loss: 0.0400 - accuracy: 0.9883\n",
      "Epoch 13/20\n",
      "64/64 [==============================] - 23s 358ms/step - loss: 0.0211 - accuracy: 0.9922\n",
      "Epoch 14/20\n",
      "64/64 [==============================] - 22s 345ms/step - loss: 0.0181 - accuracy: 0.9931\n",
      "Epoch 15/20\n",
      "64/64 [==============================] - 22s 341ms/step - loss: 0.0196 - accuracy: 0.9931\n",
      "Epoch 16/20\n",
      "64/64 [==============================] - 23s 364ms/step - loss: 0.0160 - accuracy: 0.9956\n",
      "Epoch 17/20\n",
      "64/64 [==============================] - 25s 393ms/step - loss: 0.0355 - accuracy: 0.9892\n",
      "Epoch 18/20\n",
      "64/64 [==============================] - 27s 419ms/step - loss: 0.0281 - accuracy: 0.9912\n",
      "Epoch 19/20\n",
      "64/64 [==============================] - 30s 463ms/step - loss: 0.0183 - accuracy: 0.9946\n",
      "Epoch 20/20\n",
      "64/64 [==============================] - 28s 442ms/step - loss: 0.0054 - accuracy: 0.9990\n"
     ]
    },
    {
     "data": {
      "text/plain": [
       "<tensorflow.python.keras.callbacks.History at 0x23ad7c43f60>"
      ]
     },
     "execution_count": 11,
     "metadata": {},
     "output_type": "execute_result"
    }
   ],
   "source": [
    "model.fit(train_data,train_target,epochs=20)"
   ]
  },
  {
   "cell_type": "code",
   "execution_count": 12,
   "metadata": {},
   "outputs": [
    {
     "name": "stdout",
     "output_type": "stream",
     "text": [
      "8/8 [==============================] - 1s 109ms/step - loss: 0.0136 - accuracy: 0.9956\n",
      "[0.013622612692415714, 0.9956140518188477]\n"
     ]
    }
   ],
   "source": [
    "print(model.evaluate(test_data,test_target))"
   ]
  },
  {
   "cell_type": "code",
   "execution_count": 13,
   "metadata": {},
   "outputs": [
    {
     "name": "stdout",
     "output_type": "stream",
     "text": [
      "WARNING:tensorflow:From D:\\anaconda\\envs\\tf2\\lib\\site-packages\\tensorflow\\python\\training\\tracking\\tracking.py:111: Model.state_updates (from tensorflow.python.keras.engine.training) is deprecated and will be removed in a future version.\n",
      "Instructions for updating:\n",
      "This property should not be used in TensorFlow 2.0, as updates are applied automatically.\n",
      "WARNING:tensorflow:From D:\\anaconda\\envs\\tf2\\lib\\site-packages\\tensorflow\\python\\training\\tracking\\tracking.py:111: Layer.updates (from tensorflow.python.keras.engine.base_layer) is deprecated and will be removed in a future version.\n",
      "Instructions for updating:\n",
      "This property should not be used in TensorFlow 2.0, as updates are applied automatically.\n",
      "INFO:tensorflow:Assets written to: Covid_model\\assets\n"
     ]
    }
   ],
   "source": [
    "model.save(r'Covid_model') #saved the  model"
   ]
  },
  {
   "cell_type": "code",
   "execution_count": null,
   "metadata": {},
   "outputs": [],
   "source": []
  }
 ],
 "metadata": {
  "kernelspec": {
   "display_name": "Python 3",
   "language": "python",
   "name": "python3"
  },
  "language_info": {
   "codemirror_mode": {
    "name": "ipython",
    "version": 3
   },
   "file_extension": ".py",
   "mimetype": "text/x-python",
   "name": "python",
   "nbconvert_exporter": "python",
   "pygments_lexer": "ipython3",
   "version": "3.6.9"
  }
 },
 "nbformat": 4,
 "nbformat_minor": 4
}
